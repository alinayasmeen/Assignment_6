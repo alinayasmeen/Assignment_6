{
  "nbformat": 4,
  "nbformat_minor": 0,
  "metadata": {
    "colab": {
      "provenance": [],
      "collapsed_sections": [
        "B1_sGzN8B49t",
        "znvy7P7HEtS9",
        "CLvwDp4EGIPb",
        "0Com9SffYO9U",
        "89kjf60_bfY7",
        "BEdy28LycWqP",
        "Z3Sv9_f9PDa-",
        "VWAVmimTP3Dx",
        "PfRJCxDHRBIN",
        "N_6W4sB5Rx33",
        "YHdW25veS3wc",
        "t_OtPho8T-wT"
      ],
      "include_colab_link": true
    },
    "kernelspec": {
      "name": "python3",
      "display_name": "Python 3"
    },
    "language_info": {
      "name": "python"
    }
  },
  "cells": [
    {
      "cell_type": "markdown",
      "metadata": {
        "id": "view-in-github",
        "colab_type": "text"
      },
      "source": [
        "<a href=\"https://colab.research.google.com/github/alinayasmeen/Assignment_6/blob/main/Assignment_6.ipynb\" target=\"_parent\"><img src=\"https://colab.research.google.com/assets/colab-badge.svg\" alt=\"Open In Colab\"/></a>"
      ]
    },
    {
      "cell_type": "code",
      "execution_count": null,
      "metadata": {
        "id": "CwYjTFwxBnB5"
      },
      "outputs": [],
      "source": []
    },
    {
      "cell_type": "markdown",
      "source": [
        "# **06_Build_Compose_and_Decorate_A_Complete_Traditional_OOP_Practice_Series**"
      ],
      "metadata": {
        "id": "aZjdoZZ7BonG"
      }
    },
    {
      "cell_type": "markdown",
      "source": [],
      "metadata": {
        "id": "XYYSHhn-B2tc"
      }
    },
    {
      "cell_type": "markdown",
      "source": [
        "# **1. Using self**"
      ],
      "metadata": {
        "id": "B1_sGzN8B49t"
      }
    },
    {
      "cell_type": "code",
      "source": [
        "class Student():\n",
        "    def __init__(self, name, marks):\n",
        "        self.name = name\n",
        "        self.marks = marks\n",
        "\n",
        "    def display(self):\n",
        "        print(f\"Student Name: {self.name} \\n Marks: {self.marks}\")\n",
        "\n",
        "student1 = Student(\"Alice\", 16)\n",
        "student1.display()"
      ],
      "metadata": {
        "colab": {
          "base_uri": "https://localhost:8080/"
        },
        "id": "Z7BT89AxB_i7",
        "outputId": "03df1a0d-9381-4fab-82a7-9d79a602300c"
      },
      "execution_count": null,
      "outputs": [
        {
          "output_type": "stream",
          "name": "stdout",
          "text": [
            "Student Name: Alice \n",
            " Marks: 16\n"
          ]
        }
      ]
    },
    {
      "cell_type": "markdown",
      "source": [
        "# **2. Using cls**"
      ],
      "metadata": {
        "id": "znvy7P7HEtS9"
      }
    },
    {
      "source": [
        "class Counter():\n",
        "    object_count = 0\n",
        "\n",
        "    def __init__(self):\n",
        "        Counter.object_count += 1\n",
        "\n",
        "    @classmethod\n",
        "    def display_count(cls):\n",
        "        print(f\"Number of objects created: {cls.object_count}\")\n",
        "\n",
        "counter1 = Counter()\n",
        "counter2 = Counter()\n",
        "counter3 = Counter()\n",
        "\n",
        "\n",
        "Counter.display_count()"
      ],
      "cell_type": "code",
      "metadata": {
        "colab": {
          "base_uri": "https://localhost:8080/"
        },
        "id": "SEZSMyL2FL0v",
        "outputId": "fa9ec73c-0673-4885-aa54-222c317475ff"
      },
      "execution_count": null,
      "outputs": [
        {
          "output_type": "stream",
          "name": "stdout",
          "text": [
            "Number of objects created: 3\n"
          ]
        }
      ]
    },
    {
      "cell_type": "markdown",
      "source": [
        "# **3. Public Variables and Methods**"
      ],
      "metadata": {
        "id": "CLvwDp4EGIPb"
      }
    },
    {
      "cell_type": "code",
      "source": [
        "class Car():\n",
        "  def __init__(self, brand):\n",
        "    self.brand = brand\n",
        "\n",
        "  def start(self):\n",
        "    print(f\"{self.brand} car started\")\n",
        "\n",
        "car1 = Car(\"Toyota\")\n",
        "car1.start()"
      ],
      "metadata": {
        "colab": {
          "base_uri": "https://localhost:8080/"
        },
        "id": "iNwmhzVRGQWx",
        "outputId": "45949c09-b652-404f-cbca-42ee9b439329"
      },
      "execution_count": null,
      "outputs": [
        {
          "output_type": "stream",
          "name": "stdout",
          "text": [
            "Toyota car started\n"
          ]
        }
      ]
    },
    {
      "cell_type": "markdown",
      "source": [
        "# **4. Class Variables and Class Methods**"
      ],
      "metadata": {
        "id": "0Com9SffYO9U"
      }
    },
    {
      "cell_type": "code",
      "source": [
        "class Bank():\n",
        "  bank_name = \"XYZ Bank\"\n",
        "\n",
        "  def __init__(self,bank_name):\n",
        "    self.bank_name = bank_name\n",
        "    print(f\"Welcome to {self.bank_name}\")\n",
        "\n",
        "  @classmethod\n",
        "  def change_bank_name(cls, name):\n",
        "    cls.bank_name = name\n",
        "\n",
        "bank = Bank(\"ABC Bank\")\n",
        "Bank.change_bank_name(\"def Bank\")\n",
        "print(Bank.bank_name)"
      ],
      "metadata": {
        "colab": {
          "base_uri": "https://localhost:8080/"
        },
        "id": "yXQLS0bAYU9m",
        "outputId": "be2e7109-0b47-4c9d-8ccd-38a897a24623"
      },
      "execution_count": null,
      "outputs": [
        {
          "output_type": "stream",
          "name": "stdout",
          "text": [
            "Welcome to ABC Bank\n",
            "def Bank\n"
          ]
        }
      ]
    },
    {
      "cell_type": "markdown",
      "source": [
        "# **5. Static Variables and Static Methods**"
      ],
      "metadata": {
        "id": "89kjf60_bfY7"
      }
    },
    {
      "cell_type": "code",
      "source": [
        "class MathUtils():\n",
        "  def __init__(self):\n",
        "    pass\n",
        "\n",
        "  @staticmethod\n",
        "  def add(a,b):\n",
        "    return a+b\n",
        "\n",
        "math = MathUtils()\n",
        "result = math.add(2,3)\n",
        "print(result)"
      ],
      "metadata": {
        "colab": {
          "base_uri": "https://localhost:8080/"
        },
        "id": "zIxbv76XbktO",
        "outputId": "26e4714b-4012-4cac-d28e-4084507a40bb"
      },
      "execution_count": null,
      "outputs": [
        {
          "output_type": "stream",
          "name": "stdout",
          "text": [
            "5\n"
          ]
        }
      ]
    },
    {
      "cell_type": "markdown",
      "source": [
        "# **6. Constructors and Destructor**"
      ],
      "metadata": {
        "id": "BEdy28LycWqP"
      }
    },
    {
      "cell_type": "code",
      "source": [
        "class Logger():\n",
        "  def __init__(self):\n",
        "    print(\"constructor\")\n",
        "\n",
        "  def __del__(self):\n",
        "    print(\"destructor\")\n",
        "\n",
        "logger = Logger()\n",
        "del logger"
      ],
      "metadata": {
        "colab": {
          "base_uri": "https://localhost:8080/"
        },
        "id": "bIqZ04x2cgPV",
        "outputId": "26357728-0d3e-43e1-f143-aab1b8310f5c"
      },
      "execution_count": null,
      "outputs": [
        {
          "output_type": "stream",
          "name": "stdout",
          "text": [
            "constructor\n",
            "destructor\n"
          ]
        }
      ]
    },
    {
      "cell_type": "markdown",
      "source": [
        "# **7. Access Modifiers: Public, Private, and Protected**"
      ],
      "metadata": {
        "id": "Z3Sv9_f9PDa-"
      }
    },
    {
      "cell_type": "code",
      "source": [
        "class Employee():\n",
        "  def __init__(self, name, salary, ssn):\n",
        "    self.name = name\n",
        "    self._salary = salary\n",
        "    self.__ssn = ssn\n",
        "\n",
        "employee = Employee(\"John\", 50000, \"123-45-6789\")\n",
        "print(employee.name)\n",
        "print(employee._salary)\n",
        "print(employee._Employee__ssn)"
      ],
      "metadata": {
        "colab": {
          "base_uri": "https://localhost:8080/"
        },
        "id": "GmUsRvkwPF9F",
        "outputId": "fd204d78-c9f5-441f-d0ba-e384967b57b4"
      },
      "execution_count": null,
      "outputs": [
        {
          "output_type": "stream",
          "name": "stdout",
          "text": [
            "John\n",
            "50000\n",
            "123-45-6789\n"
          ]
        }
      ]
    },
    {
      "cell_type": "markdown",
      "source": [
        "# **8. The super() Function**"
      ],
      "metadata": {
        "id": "VWAVmimTP3Dx"
      }
    },
    {
      "cell_type": "code",
      "source": [
        "class Person():\n",
        "    def __init__(self, name):\n",
        "        self.name = name\n",
        "\n",
        "class Teacher(Person):\n",
        "    def __init__(self, name, subject):\n",
        "        super().__init__(name)\n",
        "        self.subject = subject\n",
        "\n",
        "teacher = Teacher(\"Alice\", \"Mathematics\")\n",
        "print(teacher.name)\n",
        "print(teacher.subject)"
      ],
      "metadata": {
        "colab": {
          "base_uri": "https://localhost:8080/"
        },
        "id": "WP9nRHg6P8cr",
        "outputId": "fba91bd0-5636-4f9d-e14d-4d9779d7dedf"
      },
      "execution_count": null,
      "outputs": [
        {
          "output_type": "stream",
          "name": "stdout",
          "text": [
            "Alice\n",
            "Mathematics\n"
          ]
        }
      ]
    },
    {
      "cell_type": "markdown",
      "source": [
        "# **9. Abstract Classes and Methods**"
      ],
      "metadata": {
        "id": "PfRJCxDHRBIN"
      }
    },
    {
      "cell_type": "code",
      "source": [
        "from abc import ABC, abstractmethod\n",
        "\n",
        "class Shape(ABC):\n",
        "    @abstractmethod\n",
        "    def area(self):\n",
        "        pass\n",
        "\n",
        "class Rectangle(Shape):\n",
        "    def __init__(self, length, width):\n",
        "        self.length = length\n",
        "        self.width = width\n",
        "\n",
        "    def area(self):\n",
        "        return self.length * self.width\n",
        "\n",
        "Rectangle(5, 4).area()\n"
      ],
      "metadata": {
        "colab": {
          "base_uri": "https://localhost:8080/"
        },
        "id": "VtnybW6cRERW",
        "outputId": "32f94975-56a5-431b-91b4-cd22954d9efa"
      },
      "execution_count": null,
      "outputs": [
        {
          "output_type": "execute_result",
          "data": {
            "text/plain": [
              "20"
            ]
          },
          "metadata": {},
          "execution_count": 4
        }
      ]
    },
    {
      "cell_type": "markdown",
      "source": [
        "# **10. Instance Methods**"
      ],
      "metadata": {
        "id": "N_6W4sB5Rx33"
      }
    },
    {
      "cell_type": "code",
      "source": [
        "class Dog():\n",
        "    def __init__(self, name, breed):\n",
        "        self.name = name\n",
        "        self.breed = breed\n",
        "\n",
        "    def bark(self):\n",
        "        print(f\"{self.name} is barking!\")\n",
        "\n",
        "dog = Dog(\"Buddy\", \"Golden Retriever\")\n",
        "dog.bark()"
      ],
      "metadata": {
        "colab": {
          "base_uri": "https://localhost:8080/"
        },
        "id": "VWBrlACBR1_J",
        "outputId": "98258873-f705-48b1-8089-d32df6555e1b"
      },
      "execution_count": null,
      "outputs": [
        {
          "output_type": "stream",
          "name": "stdout",
          "text": [
            "Buddy is barking!\n"
          ]
        }
      ]
    },
    {
      "cell_type": "markdown",
      "source": [
        "# **11. Class Methods**"
      ],
      "metadata": {
        "id": "YHdW25veS3wc"
      }
    },
    {
      "cell_type": "code",
      "source": [
        "class Book():\n",
        "    total_books = 0\n",
        "\n",
        "    def __init__(self):\n",
        "        self.increment_book_count()\n",
        "\n",
        "    @classmethod\n",
        "    def increment_book_count(cls):\n",
        "        cls.total_books += 1\n",
        "\n",
        "    @classmethod\n",
        "    def display_total_books(cls):\n",
        "        print(f\"Total books: {cls.total_books}\")\n",
        "\n",
        "\n",
        "book1 = Book()\n",
        "book2 = Book()\n",
        "book3 = Book()\n",
        "\n",
        "Book.display_total_books()"
      ],
      "metadata": {
        "colab": {
          "base_uri": "https://localhost:8080/"
        },
        "id": "64K_k6HBS7ny",
        "outputId": "8c3379c3-e8ff-47df-dd45-3ba8ed6fdfb9"
      },
      "execution_count": null,
      "outputs": [
        {
          "output_type": "stream",
          "name": "stdout",
          "text": [
            "Total books: 3\n"
          ]
        }
      ]
    },
    {
      "cell_type": "markdown",
      "source": [
        "# **12. Static Methods**"
      ],
      "metadata": {
        "id": "t_OtPho8T-wT"
      }
    },
    {
      "cell_type": "code",
      "source": [
        "class TempratureConverter():\n",
        "    @staticmethod\n",
        "    def celsius_to_fahrenheit(celsius):\n",
        "        return (celsius * 9/5) + 32\n",
        "\n",
        "print(f\"Fahrenheit temprature is : {TempratureConverter.celsius_to_fahrenheit(25)}\")"
      ],
      "metadata": {
        "colab": {
          "base_uri": "https://localhost:8080/"
        },
        "id": "IF1pmeWcUFEI",
        "outputId": "844ae882-2465-461f-cf0d-23a4ef07ec55"
      },
      "execution_count": null,
      "outputs": [
        {
          "output_type": "stream",
          "name": "stdout",
          "text": [
            "Fahrenheit temprature is : 77.0\n"
          ]
        }
      ]
    },
    {
      "cell_type": "markdown",
      "source": [
        "# **13. Composition**"
      ],
      "metadata": {
        "id": "6Yh4gIMJS7n1"
      }
    },
    {
      "cell_type": "code",
      "source": [
        "class Engine():\n",
        "    def start(self):\n",
        "        print(\"Engine started\")\n",
        "\n",
        "class Car():\n",
        "    def __init__(self, engine):\n",
        "        self.engine = engine\n",
        "\n",
        "    def start(self):\n",
        "        self.engine.start()\n",
        "\n",
        "engine = Engine()\n",
        "car = Car(engine)\n",
        "car.start()"
      ],
      "metadata": {
        "colab": {
          "base_uri": "https://localhost:8080/"
        },
        "id": "f_jCCYAzS_R6",
        "outputId": "74a67e71-0e16-4b40-ff8b-fcbfe00dd981"
      },
      "execution_count": null,
      "outputs": [
        {
          "output_type": "stream",
          "name": "stdout",
          "text": [
            "Engine started\n"
          ]
        }
      ]
    },
    {
      "cell_type": "markdown",
      "source": [
        "# **14. Aggregation**"
      ],
      "metadata": {
        "id": "lZLZEPhgVhSM"
      }
    },
    {
      "cell_type": "code",
      "source": [
        "class Department():\n",
        "    def __init__(self, name):\n",
        "        self.name = name\n",
        "        self.employees = []\n",
        "\n",
        "    def add_employee(self, employee):\n",
        "        if employee not in self.employees:\n",
        "            self.employees.append(employee)\n",
        "            print(f\"{employee.name} added to {self.name} department\")\n",
        "        else:\n",
        "            print(f\"{employee.name} is already in {self.name} department\")\n",
        "\n",
        "    def list_employees(self):\n",
        "        print(f\"Employees in {self.name} department:\")\n",
        "        if self.employees:\n",
        "            for employee in self.employees:\n",
        "                print(employee.name)\n",
        "        else:\n",
        "            print(\"No employees in this department\")\n",
        "\n",
        "class Employee():\n",
        "    def __init__(self, name, department=None):\n",
        "        self.name = name\n",
        "        self.department = department\n",
        "\n",
        "hr_department = Department(\"HR\")\n",
        "\n",
        "employee1 = Employee(\"Alice\")\n",
        "employee2 = Employee(\"Bob\")\n",
        "\n",
        "hr_department.add_employee(employee1)\n",
        "hr_department.add_employee(employee2)\n",
        "\n",
        "hr_department.list_employees()\n",
        "\n",
        "employee1.department = hr_department\n",
        "employee2.department = hr_department\n",
        "\n",
        "employee1.department.list_employees()"
      ],
      "metadata": {
        "colab": {
          "base_uri": "https://localhost:8080/"
        },
        "id": "X_aU8NSVVkWL",
        "outputId": "7ddc4150-bc0e-49f7-bfa2-c35741b8bfec"
      },
      "execution_count": null,
      "outputs": [
        {
          "output_type": "stream",
          "name": "stdout",
          "text": [
            "Alice added to HR department\n",
            "Bob added to HR department\n",
            "Employees in HR department:\n",
            "Alice\n",
            "Bob\n",
            "Employees in HR department:\n",
            "Alice\n",
            "Bob\n"
          ]
        }
      ]
    },
    {
      "cell_type": "markdown",
      "source": [
        "# **15. Method Resolution Order (MRO) and Diamond Inheritance**"
      ],
      "metadata": {
        "id": "V59kE8jTY_-o"
      }
    },
    {
      "cell_type": "code",
      "source": [
        "class A:\n",
        "    def show(self):\n",
        "        print(\"Method from class A\")\n",
        "\n",
        "class B(A):\n",
        "    def show(self):\n",
        "        print(\"Method from class B\")\n",
        "\n",
        "class C(A):\n",
        "    def show(self):\n",
        "        print(\"Method from class C\")\n",
        "\n",
        "class D(B, C):\n",
        "    pass # D inherits from B and C, it will use the show method based on MRO\n",
        "\n",
        "# Create an object of D\n",
        "d_object = D()\n",
        "\n",
        "# Call show()\n",
        "d_object.show()\n",
        "\n",
        "# Print the Method Resolution Order (MRO) for class D\n",
        "print(D.__mro__)"
      ],
      "metadata": {
        "colab": {
          "base_uri": "https://localhost:8080/"
        },
        "id": "qQdPDwX-ZELp",
        "outputId": "8c9a3b9e-f93f-4ec8-9baf-2806a7576e91"
      },
      "execution_count": null,
      "outputs": [
        {
          "output_type": "stream",
          "name": "stdout",
          "text": [
            "Method from class B\n",
            "(<class '__main__.D'>, <class '__main__.B'>, <class '__main__.C'>, <class '__main__.A'>, <class 'object'>)\n"
          ]
        }
      ]
    },
    {
      "cell_type": "markdown",
      "source": [
        "# **16. Function Decorators**"
      ],
      "metadata": {
        "id": "KIiNvPBgZdKI"
      }
    },
    {
      "cell_type": "code",
      "source": [
        "def log_function_call(func):\n",
        "    def wrapper(*args, **kwargs):\n",
        "        print(\"Function is being called\")\n",
        "        return func(*args, **kwargs)\n",
        "    return wrapper\n",
        "\n",
        "@log_function_call\n",
        "def say_hello():\n",
        "    print(\"Hello!\")\n",
        "\n",
        "say_hello()"
      ],
      "metadata": {
        "colab": {
          "base_uri": "https://localhost:8080/"
        },
        "id": "siStkALxZjav",
        "outputId": "850380d6-8b9b-4bd7-a9a2-f854d2ad586a"
      },
      "execution_count": null,
      "outputs": [
        {
          "output_type": "stream",
          "name": "stdout",
          "text": [
            "Function is being called\n",
            "Hello!\n"
          ]
        }
      ]
    },
    {
      "cell_type": "markdown",
      "source": [
        "# **17. Class Decorators**"
      ],
      "metadata": {
        "id": "qXMbfV02Z-NT"
      }
    },
    {
      "cell_type": "code",
      "source": [
        "def add_greeting(cls):\n",
        "    def greet(self):\n",
        "        return \"Hello from Decorator!\"\n",
        "    cls.greet = greet\n",
        "    return cls\n",
        "\n",
        "@add_greeting\n",
        "class Person:\n",
        "    def __init__(self, name):\n",
        "        self.name = name\n",
        "\n",
        "# Create an instance of the decorated class\n",
        "person = Person(\"Alice\")\n",
        "\n",
        "# Call the new greet method\n",
        "print(person.greet())"
      ],
      "metadata": {
        "colab": {
          "base_uri": "https://localhost:8080/"
        },
        "id": "xI12MpE9aDIj",
        "outputId": "b0de0f8d-84b4-4cc5-81ed-f8899493b796"
      },
      "execution_count": null,
      "outputs": [
        {
          "output_type": "stream",
          "name": "stdout",
          "text": [
            "Hello from Decorator!\n"
          ]
        }
      ]
    },
    {
      "cell_type": "markdown",
      "source": [
        "# **18. Property Decorators: @property, @setter, and @deleter**"
      ],
      "metadata": {
        "id": "6imbIs1haQcJ"
      }
    },
    {
      "cell_type": "code",
      "source": [
        "class Product:\n",
        "    def __init__(self, initial_price):\n",
        "        # Initialize the private price attribute\n",
        "        self._price = initial_price\n",
        "\n",
        "    @property\n",
        "    def price(self):\n",
        "        \"\"\"Get the price of the product.\"\"\"\n",
        "        print(\"Getting price...\")\n",
        "        return self._price\n",
        "\n",
        "    @price.setter\n",
        "    def price(self, new_price):\n",
        "        \"\"\"Set the price of the product with validation.\"\"\"\n",
        "        print(\"Setting price...\")\n",
        "        if not isinstance(new_price, (int, float)):\n",
        "            raise TypeError(\"Price must be a number\")\n",
        "        if new_price < 0:\n",
        "            raise ValueError(\"Price cannot be negative\")\n",
        "        self._price = new_price\n",
        "\n",
        "    @price.deleter\n",
        "    def price(self):\n",
        "        \"\"\"Delete the price attribute.\"\"\"\n",
        "        print(\"Deleting price...\")\n",
        "        del self._price\n",
        "\n",
        "# Create a Product instance\n",
        "product = Product(100)\n",
        "\n",
        "# Get the price using the @property\n",
        "print(f\"Initial price: {product.price}\")\n",
        "\n",
        "# Set the price using the @price.setter\n",
        "product.price = 120\n",
        "print(f\"Updated price: {product.price}\")\n",
        "\n",
        "# Try setting an invalid price (uncomment to see the error)\n",
        "# product.price = \"abc\"\n",
        "\n",
        "# Delete the price using the @price.deleter\n",
        "del product.price\n",
        "\n",
        "# Try getting the price after deletion (uncomment to see the error)\n",
        "# print(product.price)"
      ],
      "metadata": {
        "colab": {
          "base_uri": "https://localhost:8080/"
        },
        "id": "FZc9GQ63aSgn",
        "outputId": "8d9f1d4c-8a84-4ebb-c501-b3d89d29e536"
      },
      "execution_count": null,
      "outputs": [
        {
          "output_type": "stream",
          "name": "stdout",
          "text": [
            "Getting price...\n",
            "Initial price: 100\n",
            "Setting price...\n",
            "Getting price...\n",
            "Updated price: 120\n",
            "Deleting price...\n"
          ]
        }
      ]
    },
    {
      "cell_type": "markdown",
      "source": [
        "# **19. callable() and __call__()**"
      ],
      "metadata": {
        "id": "Y85EM6GoahgS"
      }
    },
    {
      "cell_type": "code",
      "source": [
        "class Multiplier():\n",
        "    def __init__(self, factor):\n",
        "        self.factor = factor\n",
        "\n",
        "    def __call__(self, x):\n",
        "        print(f\"Multiplying {x} by {self.factor}\")\n",
        "        return x * self.factor\n",
        "\n",
        "# Create an instance of the Multiplier class\n",
        "double = Multiplier(2)\n",
        "triple = Multiplier(3)\n",
        "\n",
        "# Test with callable()\n",
        "print(f\"Is 'double' callable? {callable(double)}\")\n",
        "print(f\"Is 'Multiplier' class callable? {callable(Multiplier)}\") # Classes are callable\n",
        "\n",
        "# Call the objects like functions using __call__()\n",
        "result_double = double(5)\n",
        "result_triple = triple(10)\n",
        "\n",
        "print(f\"Result of doubling 5: {result_double}\")\n",
        "print(f\"Result of tripling 10: {result_triple}\")\n",
        "\n",
        "# Note: You can also call the class itself, which calls __init__ and returns an object\n",
        "# print(Multiplier(4)(6)) # This creates a Multiplier with factor 4 and then calls it with 6"
      ],
      "metadata": {
        "colab": {
          "base_uri": "https://localhost:8080/"
        },
        "id": "gzJtNhZaaj7H",
        "outputId": "dc821088-6998-49b5-bfed-c69ca5b2bda1"
      },
      "execution_count": null,
      "outputs": [
        {
          "output_type": "stream",
          "name": "stdout",
          "text": [
            "Is 'double' callable? True\n",
            "Is 'Multiplier' class callable? True\n",
            "Multiplying 5 by 2\n",
            "Multiplying 10 by 3\n",
            "Result of doubling 5: 10\n",
            "Result of tripling 10: 30\n"
          ]
        }
      ]
    },
    {
      "cell_type": "markdown",
      "source": [
        "# **20. Creating a Custom Exception**"
      ],
      "metadata": {
        "id": "ohdW0sfvbnDf"
      }
    },
    {
      "cell_type": "code",
      "source": [
        "# Create a custom exception class\n",
        "class InvalidAgeError(Exception):\n",
        "    \"\"\"Custom exception raised for invalid age values.\"\"\"\n",
        "    pass # We don't need any extra methods or attributes for this simple case\n",
        "\n",
        "# Function that raises the custom exception\n",
        "def check_age(age):\n",
        "    if age < 18:\n",
        "        # Raise the custom exception\n",
        "        raise InvalidAgeError(\"Age must be 18 or older.\")\n",
        "    else:\n",
        "        print(f\"Age {age} is valid.\")\n",
        "\n",
        "# Handle the custom exception using try...except\n",
        "try:\n",
        "    check_age(15) # This will raise the InvalidAgeError\n",
        "except InvalidAgeError as e:\n",
        "    print(f\"Caught an exception: {e}\")\n",
        "\n",
        "try:\n",
        "    check_age(20) # This will not raise an exception\n",
        "except InvalidAgeError as e:\n",
        "    print(f\"Caught an exception: {e}\")"
      ],
      "metadata": {
        "id": "hK6Vumljbo9A"
      },
      "execution_count": null,
      "outputs": []
    },
    {
      "cell_type": "markdown",
      "source": [
        "# **21. Make a Custom Class Iterable**"
      ],
      "metadata": {
        "id": "iSCFqq0rbyB8"
      }
    },
    {
      "source": [
        "class Countdown():\n",
        "    def __init__(self, start):\n",
        "        if start < 0:\n",
        "            raise ValueError(\"Start number must be non-negative\")\n",
        "        self.current = start\n",
        "        self.start = start # Store the initial start value\n",
        "\n",
        "    def __iter__(self):\n",
        "        # Return the iterator object itself.\n",
        "        # For a simple countdown where we iterate over the object's state,\n",
        "        # the object itself can also be the iterator.\n",
        "        return self\n",
        "\n",
        "    def __next__(self):\n",
        "        if self.current >= 0:\n",
        "            # Get the current value before decrementing\n",
        "            value_to_return = self.current\n",
        "            # Decrement for the next call\n",
        "            self.current -= 1\n",
        "            return value_to_return\n",
        "        else:\n",
        "            # Stop iteration when the count goes below 0\n",
        "            # Reset current for potential re-iteration (optional)\n",
        "            self.current = self.start # Reset for re-use\n",
        "            raise StopIteration\n",
        "\n",
        "# Create an instance of the Countdown class\n",
        "countdown_timer = Countdown(5)\n",
        "\n",
        "# Iterate using a for loop\n",
        "print(\"Counting down:\")\n",
        "for number in countdown_timer:\n",
        "    print(number)\n",
        "\n",
        "print(\"\\nCounting down again:\")\n",
        "# You can iterate again because we reset current in __next__\n",
        "countdown_timer = Countdown(3) # Re-create or reset the instance\n",
        "for number in countdown_timer:\n",
        "    print(number)"
      ],
      "cell_type": "code",
      "metadata": {
        "colab": {
          "base_uri": "https://localhost:8080/"
        },
        "id": "VAXLASMicEsW",
        "outputId": "6eb36318-86ff-4764-88b4-306cf4a19fb1"
      },
      "execution_count": null,
      "outputs": [
        {
          "output_type": "stream",
          "name": "stdout",
          "text": [
            "Counting down:\n",
            "5\n",
            "4\n",
            "3\n",
            "2\n",
            "1\n",
            "0\n",
            "\n",
            "Counting down again:\n",
            "3\n",
            "2\n",
            "1\n",
            "0\n"
          ]
        }
      ]
    },
    {
      "cell_type": "markdown",
      "source": [],
      "metadata": {
        "id": "6jkFE1Y8ViLP"
      }
    }
  ]
}